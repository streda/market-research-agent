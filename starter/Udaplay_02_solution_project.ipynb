{
 "cells": [
  {
   "cell_type": "markdown",
   "id": "6fdd0bcb",
   "metadata": {},
   "source": [
    "# [STARTER] Udaplay Project"
   ]
  },
  {
   "cell_type": "markdown",
   "id": "9325b035",
   "metadata": {},
   "source": [
    "## Part 02 - Agent\n",
    "\n",
    "In this part of the project, you'll use your VectorDB to be part of your Agent as a tool.\n",
    "\n",
    "You're building UdaPlay, an AI Research Agent for the video game industry. The agent will:\n",
    "1. Answer questions using internal knowledge (RAG)\n",
    "2. Search the web when needed\n",
    "3. Maintain conversation state\n",
    "4. Return structured outputs\n",
    "5. Store useful information for future use"
   ]
  },
  {
   "cell_type": "markdown",
   "id": "2b42de90",
   "metadata": {},
   "source": [
    "### Setup"
   ]
  },
  {
   "cell_type": "code",
   "execution_count": 135,
   "id": "a963d4ca",
   "metadata": {},
   "outputs": [],
   "source": [
    "# Only needed for Udacity workspace\n",
    "\n",
    "import importlib.util\n",
    "import sys\n",
    "\n",
    "# Check if 'pysqlite3' is available before importing\n",
    "if importlib.util.find_spec(\"pysqlite3\") is not None:\n",
    "    import pysqlite3\n",
    "    sys.modules['sqlite3'] = sys.modules.pop('pysqlite3')"
   ]
  },
  {
   "cell_type": "code",
   "execution_count": 136,
   "id": "fd10c06e",
   "metadata": {},
   "outputs": [],
   "source": [
    "# TODO: Import the necessary libs\n",
    "# For example: \n",
    "import os\n",
    "\n",
    "from lib.agents import Agent\n",
    "from lib.llm import LLM\n",
    "from lib.messages import UserMessage, SystemMessage, ToolMessage, AIMessage\n",
    "from lib.tooling import tool\n",
    "from dotenv import load_dotenv"
   ]
  },
  {
   "cell_type": "code",
   "execution_count": 137,
   "id": "87e465d4",
   "metadata": {},
   "outputs": [
    {
     "data": {
      "text/plain": [
       "True"
      ]
     },
     "execution_count": 137,
     "metadata": {},
     "output_type": "execute_result"
    }
   ],
   "source": [
    "# TODO: Load environment variables\n",
    "load_dotenv()\n",
    "\n",
    "# OPENAI_API_KEY = os.getenv(\"OPENAI_API_KEY\")\n",
    "# TAVILY_API_KEY = os.getenv(\"TAVILY_API_KEY\")"
   ]
  },
  {
   "cell_type": "code",
   "execution_count": null,
   "id": "ce364221",
   "metadata": {},
   "outputs": [],
   "source": []
  },
  {
   "cell_type": "markdown",
   "id": "27de4729",
   "metadata": {},
   "source": [
    "### Tools"
   ]
  },
  {
   "cell_type": "markdown",
   "id": "46ab2dac",
   "metadata": {},
   "source": [
    "Build at least 3 tools:\n",
    "- retrieve_game: To search the vector DB\n",
    "- evaluate_retrieval: To assess the retrieval performance\n",
    "- game_web_search: If no good, search the web\n"
   ]
  },
  {
   "cell_type": "markdown",
   "id": "ce4f14cd",
   "metadata": {},
   "source": [
    "#### Retrieve Game Tool"
   ]
  },
  {
   "cell_type": "code",
   "execution_count": 138,
   "id": "b25c36dd",
   "metadata": {},
   "outputs": [],
   "source": [
    "# TODO: Create retrieve_game tool\n",
    "# It should use chroma client and collection you created\n",
    "# chroma_client = chromadb.PersistentClient(path=\"chromadb\")\n",
    "# collection = chroma_client.get_collection(\"udaplay\")\n",
    "# Tool Docstring:\n",
    "#    Semantic search: Finds most results in the vector DB\n",
    "#    args:\n",
    "#    - query: a question about game industry. \n",
    "#\n",
    "#    You'll receive results as list. Each element contains:\n",
    "#    - Platform: like Game Boy, Playstation 5, Xbox 360...)\n",
    "#    - Name: Name of the Game\n",
    "#    - YearOfRelease: Year when that game was released for that platform\n",
    "#    - Description: Additional details about the game\n",
    "\n",
    "from lib.tooling import tool\n",
    "import os\n",
    "import chromadb\n",
    "from chromadb.utils import embedding_functions\n",
    "\n",
    "chroma_client = chromadb.PersistentClient(path=\"chromadb\")\n",
    "\n",
    "embedding_fn = embedding_functions.OpenAIEmbeddingFunction(\n",
    "    api_key=os.getenv(\"CHROMA_OPENAI_API_KEY\"),\n",
    "    model_name=\"text-embedding-3-small\"\n",
    ")\n",
    "\n",
    "collection = chroma_client.get_collection(\n",
    "    name=\"udaplay\",\n",
    "    embedding_function=embedding_fn\n",
    ")\n",
    "\n",
    "@tool\n",
    "def retrieve_game(query: str) -> list:\n",
    "    \"\"\"\n",
    "    Semantic search: Finds most relevant results in the vector DB.\n",
    "\n",
    "    Args:\n",
    "        query (str): a natural language question about games\n",
    "\n",
    "    Returns:\n",
    "        list: A list of dictionaries, each containing:\n",
    "            - Name\n",
    "            - Platform\n",
    "            - YearOfRelease\n",
    "            - Description\n",
    "    \"\"\"\n",
    "    results = collection.query(query_texts=[query], n_results=3)\n",
    "\n",
    "    docs = results.get(\"metadatas\", [[]])[0] \n",
    "    return [\n",
    "        {\n",
    "            \"Name\": doc.get(\"Name\"),\n",
    "            \"Platform\": doc.get(\"Platform\"),\n",
    "            \"YearOfRelease\": doc.get(\"YearOfRelease\"),\n",
    "            \"Description\": doc.get(\"Description\")\n",
    "        }\n",
    "        for doc in docs\n",
    "    ]"
   ]
  },
  {
   "cell_type": "code",
   "execution_count": 139,
   "id": "17c1366d",
   "metadata": {},
   "outputs": [
    {
     "name": "stdout",
     "output_type": "stream",
     "text": [
      "[{'Description': 'Second-generation Pokémon games introducing new regions, '\n",
      "                 'Pokémon, and gameplay mechanics.',\n",
      "  'Name': 'Pokémon Gold and Silver',\n",
      "  'Platform': 'Game Boy Color',\n",
      "  'YearOfRelease': 1999},\n",
      " {'Description': 'Third-generation Pokémon games set in the Hoenn region, '\n",
      "                 'featuring new Pokémon and double battles.',\n",
      "  'Name': 'Pokémon Ruby and Sapphire',\n",
      "  'Platform': 'Game Boy Advance',\n",
      "  'YearOfRelease': 2002},\n",
      " {'Description': 'A classic platformer where Mario embarks on a quest to save '\n",
      "                 'Princess Toadstool and Dinosaur Land from Bowser.',\n",
      "  'Name': 'Super Mario World',\n",
      "  'Platform': 'Super Nintendo Entertainment System (SNES)',\n",
      "  'YearOfRelease': 1990}]\n"
     ]
    }
   ],
   "source": [
    "# Test \n",
    "sample_query = \"What Pokémon games were released on Game Boy?\"\n",
    "results = retrieve_game(sample_query)\n",
    "\n",
    "from pprint import pprint\n",
    "pprint(results)"
   ]
  },
  {
   "cell_type": "markdown",
   "id": "910dc945",
   "metadata": {},
   "source": [
    "#### Evaluate Retrieval Tool"
   ]
  },
  {
   "cell_type": "code",
   "execution_count": 140,
   "id": "0d9d014b",
   "metadata": {},
   "outputs": [],
   "source": [
    "# TODO: Create evaluate_retrieval tool\n",
    "# You might use an LLM as judge in this tool to evaluate the performance\n",
    "# You need to prompt that LLM with something like:\n",
    "# \"Your task is to evaluate if the documents are enough to respond the query. \"\n",
    "# \"Give a detailed explanation, so it's possible to take an action to accept it or not.\"\n",
    "# Use EvaluationReport to parse the result\n",
    "# Tool Docstring:\n",
    "#    Based on the user's question and on the list of retrieved documents, \n",
    "#    it will analyze the usability of the documents to respond to that question. \n",
    "#    args: \n",
    "#    - question: original question from user\n",
    "#    - retrieved_docs: retrieved documents most similar to the user query in the Vector Database\n",
    "#    The result includes:\n",
    "#    - useful: whether the documents are useful to answer the question\n",
    "#    - description: description about the evaluation result\n",
    "import importlib\n",
    "import lib.evaluation\n",
    "importlib.reload(lib.evaluation)\n",
    "\n",
    "from lib.tooling import tool\n",
    "from lib.evaluation import EvaluationReport\n",
    "from lib.llm import LLM\n",
    "\n",
    "@tool\n",
    "def evaluate_retrieval(question: str, retrieved_docs: list) -> EvaluationReport:\n",
    "    \"\"\"\n",
    "    Based on the user's question and on the list of retrieved documents, \n",
    "    it will analyze the usability of the documents to respond to that question.\n",
    "    \n",
    "    Args:\n",
    "    - question: original question from user\n",
    "    - retrieved_docs: list of game documents from vector DB\n",
    "    \n",
    "    Returns:\n",
    "    - EvaluationReport object containing:\n",
    "        - useful: bool\n",
    "        - description: str\n",
    "    \"\"\"\n",
    "    llm = LLM()\n",
    "\n",
    "    system_prompt = (\n",
    "        \"Your task is to evaluate if the retrieved documents are sufficient to answer the user query.\\n\"\n",
    "        \"Be critical. Only mark them as useful if they directly help answer the question.\\n\"\n",
    "        \"Explain why they are or aren't sufficient.\"\n",
    "    )\n",
    "\n",
    "    user_prompt = {\n",
    "        \"question\": question,\n",
    "        \"retrieved_docs\": retrieved_docs\n",
    "    }\n",
    "    \n",
    "    prompt = f\"\"\"\n",
    "    System: {system_prompt}\n",
    "\n",
    "    User Question: {question}\n",
    "\n",
    "    Retrieved Documents:\n",
    "    {retrieved_docs}\n",
    "    \"\"\"\n",
    "\n",
    "    result = llm.invoke(\n",
    "    input=prompt,\n",
    "    response_format=EvaluationReport\n",
    "    )               \n",
    "\n",
    "    return result"
   ]
  },
  {
   "cell_type": "code",
   "execution_count": 141,
   "id": "2708014b",
   "metadata": {},
   "outputs": [
    {
     "name": "stdout",
     "output_type": "stream",
     "text": [
      "{\n",
      "  \"useful\": true,\n",
      "  \"description\": \"The retrieved document provides the release year of 'God of War Ragnarok' as 2022, which directly answers the user's question about when the game was released. Additionally, it includes relevant context about the game being a sequel to the 2018 'God of War' and its focus on Norse mythology, which may enhance the user's understanding of the title.\"\n",
      "}\n"
     ]
    }
   ],
   "source": [
    "report = evaluate_retrieval(\n",
    "    question=\"When was God of War Ragnarok released?\",\n",
    "    retrieved_docs=[\n",
    "        {\n",
    "            \"Name\": \"God of War Ragnarok\",\n",
    "            \"Platform\": \"PlayStation 5\",\n",
    "            \"YearOfRelease\": 2022,\n",
    "            \"Description\": \"The sequel to 2018's God of War, following Kratos and Atreus in Norse mythology.\"\n",
    "        }\n",
    "    ]\n",
    ")\n",
    "\n",
    "#print report\n",
    "from pydantic import BaseModel\n",
    "import json\n",
    "\n",
    "parsed = json.loads(report.content)  \n",
    "print(json.dumps(parsed, indent=2))"
   ]
  },
  {
   "cell_type": "code",
   "execution_count": 142,
   "id": "fc0da6e2",
   "metadata": {},
   "outputs": [
    {
     "name": "stdout",
     "output_type": "stream",
     "text": [
      "Requirement already satisfied: tavily-python in /Users/mbp/miniforge3/lib/python3.12/site-packages (0.7.10)\n",
      "Requirement already satisfied: requests in /Users/mbp/miniforge3/lib/python3.12/site-packages (from tavily-python) (2.32.3)\n",
      "Requirement already satisfied: tiktoken>=0.5.1 in /Users/mbp/miniforge3/lib/python3.12/site-packages (from tavily-python) (0.9.0)\n",
      "Requirement already satisfied: httpx in /Users/mbp/miniforge3/lib/python3.12/site-packages (from tavily-python) (0.28.1)\n",
      "Requirement already satisfied: regex>=2022.1.18 in /Users/mbp/miniforge3/lib/python3.12/site-packages (from tiktoken>=0.5.1->tavily-python) (2024.11.6)\n",
      "Requirement already satisfied: charset_normalizer<4,>=2 in /Users/mbp/miniforge3/lib/python3.12/site-packages (from requests->tavily-python) (3.4.2)\n",
      "Requirement already satisfied: idna<4,>=2.5 in /Users/mbp/miniforge3/lib/python3.12/site-packages (from requests->tavily-python) (3.10)\n",
      "Requirement already satisfied: urllib3<3,>=1.21.1 in /Users/mbp/miniforge3/lib/python3.12/site-packages (from requests->tavily-python) (2.4.0)\n",
      "Requirement already satisfied: certifi>=2017.4.17 in /Users/mbp/miniforge3/lib/python3.12/site-packages (from requests->tavily-python) (2025.7.14)\n",
      "Requirement already satisfied: anyio in /Users/mbp/miniforge3/lib/python3.12/site-packages (from httpx->tavily-python) (4.9.0)\n",
      "Requirement already satisfied: httpcore==1.* in /Users/mbp/miniforge3/lib/python3.12/site-packages (from httpx->tavily-python) (1.0.9)\n",
      "Requirement already satisfied: h11>=0.16 in /Users/mbp/miniforge3/lib/python3.12/site-packages (from httpcore==1.*->httpx->tavily-python) (0.16.0)\n",
      "Requirement already satisfied: sniffio>=1.1 in /Users/mbp/miniforge3/lib/python3.12/site-packages (from anyio->httpx->tavily-python) (1.3.1)\n",
      "Requirement already satisfied: typing_extensions>=4.5 in /Users/mbp/miniforge3/lib/python3.12/site-packages (from anyio->httpx->tavily-python) (4.14.1)\n"
     ]
    }
   ],
   "source": [
    "!pip install tavily-python"
   ]
  },
  {
   "cell_type": "code",
   "execution_count": 143,
   "id": "dc2933f0",
   "metadata": {},
   "outputs": [
    {
     "name": "stdout",
     "output_type": "stream",
     "text": [
      "TavilyClient successfully imported\n"
     ]
    }
   ],
   "source": [
    "print(\"TavilyClient successfully imported\")"
   ]
  },
  {
   "cell_type": "markdown",
   "id": "c7935a26",
   "metadata": {},
   "source": [
    "#### Game Web Search Tool"
   ]
  },
  {
   "cell_type": "markdown",
   "id": "b990982f",
   "metadata": {},
   "source": []
  },
  {
   "cell_type": "code",
   "execution_count": 144,
   "id": "2ad698aa",
   "metadata": {},
   "outputs": [],
   "source": [
    "# TODO: Create game_web_search tool\n",
    "# Please use Tavily client to search the web\n",
    "# Tool Docstring:\n",
    "#    Semantic search: Finds most results in the vector DB\n",
    "#    args:\n",
    "#    - question: a question about game industry. \n",
    "from lib.tooling import tool\n",
    "from tavily import TavilyClient\n",
    "import os\n",
    "\n",
    "tavily_client = TavilyClient(api_key=os.getenv(\"TAVILY_API_KEY\"))\n",
    "\n",
    "@tool\n",
    "def game_web_search(question: str) -> list:\n",
    "    \"\"\"\n",
    "    Web search fallback: Uses Tavily client to search the web.\n",
    "    \n",
    "    Args:\n",
    "    - question: a question about game industry\n",
    "    \n",
    "    Returns:\n",
    "    - A list of search result summaries (dicts) with title, URL, and snippet\n",
    "    \"\"\"\n",
    "    search_response = tavily_client.search(\n",
    "        query=question,\n",
    "        search_depth=\"advanced\",\n",
    "        include_answer=True,\n",
    "        max_results=5\n",
    "    )\n",
    "    \n",
    "    results = search_response[\"results\"]\n",
    "    for i, r in enumerate(results, 1):\n",
    "        print(f\"Result {i}:\\nTitle: {r['title']}\\nURL: {r['url']}\\nSnippet: {r['content'][:300]}...\\n\")\n",
    "    \n",
    "    return results"
   ]
  },
  {
   "cell_type": "code",
   "execution_count": 145,
   "id": "0d68f823",
   "metadata": {},
   "outputs": [
    {
     "name": "stdout",
     "output_type": "stream",
     "text": [
      "Result 1:\n",
      "Title: Mortal Kombat X (PS5) 4K 60FPS HDR Gameplay - YouTube\n",
      "URL: https://www.youtube.com/watch?v=HUNMZwDdrvY\n",
      "Snippet: Mortal Kombat X[b] is a 2015 fighting game developed by NetherRealm Studios and published by Warner Bros. Interactive Entertainment for Windows, PlayStation 4, and Xbox One. It is the tenth main installment in the Mortal Kombat series and a sequel to Mortal Kombat (2011), taking place 25 years later...\n",
      "\n",
      "Result 2:\n",
      "Title: Mortal Kombat X - Wikipedia\n",
      "URL: https://en.wikipedia.org/wiki/Mortal_Kombat_X\n",
      "Snippet: An upgraded version of _Mortal Kombat X_, titled _Mortal Kombat XL_,[\\[c\\]]( was released on March 1, 2016, for PlayStation 4 and Xbox One, including all downloadable content characters from the two released Kombat Packs, almost all bonus alternate costumes available at the time of release, improved...\n",
      "\n",
      "Result 3:\n",
      "Title: Mortal Kombat X on PS5? : r/MortalKombat - Reddit\n",
      "URL: https://www.reddit.com/r/MortalKombat/comments/15can50/mortal_kombat_x_on_ps5/\n",
      "Snippet: /r/MortalKombat is the OFFICIAL subreddit of Mortal Kombat 1, released in September 2023, and a grass roots kommunity-run subreddit for the Mortal Kombat franchise. r/Mortal Kombat is the biggest Mortal Kombat fan resource on the internet, covering a wide range of MK culture and a premier destinatio...\n",
      "\n",
      "Result 4:\n",
      "Title: Mortal Kombat X\n",
      "URL: https://mortalkombat.fandom.com/wiki/Mortal_Kombat_X\n",
      "Snippet: Mortal Kombat X is both the 10th fighting game and the 21st installment in the Mortal Kombat series. It was developed by NetherRealm Studios for PlayStation 4 and Xbox One and by High Voltage Software and later QLOC S.A. for PC. PlayStation 3 and Xbox 360 were planned as well. The current-generation...\n",
      "\n",
      "Result 5:\n",
      "Title: Mortal Kombat X | Warner Bros. Entertainment Wiki - Fandom\n",
      "URL: https://warnerbros.fandom.com/wiki/Mortal_Kombat_X\n",
      "Snippet: An upgraded version of Mortal Kombat X, titled Mortal Kombat XL, was released on March 1, 2016, for PlayStation 4 and Xbox One, including all downloadable content characters from the two released Kombat Packs, almost all bonus alternate costumes available at the time of release, improved gameplay, a...\n",
      "\n",
      "\n",
      "Result 1:\n",
      "Title: Mortal Kombat X (PS5) 4K 60FPS HDR Gameplay - YouTube\n",
      "URL: https://www.youtube.com/watch?v=HUNMZwDdrvY\n",
      "Snippet: Mortal Kombat X[b] is a 2015 fighting game developed by NetherRealm Studios and published by Warner Bros. Interactive Entertainment for Windows, PlayStation 4, and Xbox One. It is the tenth main installment in the Mortal Kombat series and a sequel to Mortal Kombat (2011), taking place 25 years later...\n",
      "\n",
      "\n",
      "Result 2:\n",
      "Title: Mortal Kombat X - Wikipedia\n",
      "URL: https://en.wikipedia.org/wiki/Mortal_Kombat_X\n",
      "Snippet: An upgraded version of _Mortal Kombat X_, titled _Mortal Kombat XL_,[\\[c\\]]( was released on March 1, 2016, for PlayStation 4 and Xbox One, including all downloadable content characters from the two released Kombat Packs, almost all bonus alternate costumes available at the time of release, improved...\n",
      "\n",
      "\n",
      "Result 3:\n",
      "Title: Mortal Kombat X on PS5? : r/MortalKombat - Reddit\n",
      "URL: https://www.reddit.com/r/MortalKombat/comments/15can50/mortal_kombat_x_on_ps5/\n",
      "Snippet: /r/MortalKombat is the OFFICIAL subreddit of Mortal Kombat 1, released in September 2023, and a grass roots kommunity-run subreddit for the Mortal Kombat franchise. r/Mortal Kombat is the biggest Mortal Kombat fan resource on the internet, covering a wide range of MK culture and a premier destinatio...\n",
      "\n",
      "\n",
      "Result 4:\n",
      "Title: Mortal Kombat X\n",
      "URL: https://mortalkombat.fandom.com/wiki/Mortal_Kombat_X\n",
      "Snippet: Mortal Kombat X is both the 10th fighting game and the 21st installment in the Mortal Kombat series. It was developed by NetherRealm Studios for PlayStation 4 and Xbox One and by High Voltage Software and later QLOC S.A. for PC. PlayStation 3 and Xbox 360 were planned as well. The current-generation...\n",
      "\n",
      "\n",
      "Result 5:\n",
      "Title: Mortal Kombat X | Warner Bros. Entertainment Wiki - Fandom\n",
      "URL: https://warnerbros.fandom.com/wiki/Mortal_Kombat_X\n",
      "Snippet: An upgraded version of Mortal Kombat X, titled Mortal Kombat XL, was released on March 1, 2016, for PlayStation 4 and Xbox One, including all downloadable content characters from the two released Kombat Packs, almost all bonus alternate costumes available at the time of release, improved gameplay, a...\n",
      "\n"
     ]
    }
   ],
   "source": [
    "# Test \n",
    "results = game_web_search(\"When was Mortal Kombat X released for PlayStation 5?\")\n",
    "\n",
    "for idx, r in enumerate(results, 1):\n",
    "    print(f\"\\nResult {idx}:\")\n",
    "    print(f\"Title: {r['title']}\")\n",
    "    print(f\"URL: {r['url']}\")\n",
    "    print(f\"Snippet: {r['content'][:300]}...\\n\")"
   ]
  },
  {
   "cell_type": "markdown",
   "id": "df844b3b",
   "metadata": {},
   "source": [
    "### Agent"
   ]
  },
  {
   "cell_type": "code",
   "execution_count": 146,
   "id": "31c56281",
   "metadata": {},
   "outputs": [
    {
     "name": "stdout",
     "output_type": "stream",
     "text": [
      "[StateMachine] Starting: __entry__\n",
      "[StateMachine] Executing step: message_prep\n",
      "[StateMachine] Executing step: llm_processor\n",
      "[StateMachine] Executing step: tool_executor\n",
      "[StateMachine] Executing step: llm_processor\n",
      "[StateMachine] Terminating: __termination__\n",
      "[StateMachine] Starting: __entry__\n",
      "[StateMachine] Executing step: message_prep\n",
      "[StateMachine] Executing step: llm_processor\n",
      "[StateMachine] Executing step: tool_executor\n",
      "[StateMachine] Executing step: llm_processor\n",
      "[StateMachine] Terminating: __termination__\n",
      "Pokémon Gold and Silver was released in 1999 for the Game Boy Color.\n"
     ]
    }
   ],
   "source": [
    "# TODO: Create your Agent abstraction using StateMachine\n",
    "# Equip with an appropriate model\n",
    "# Craft a good set of instructions \n",
    "# Plug all Tools you developed\n",
    "from lib.tooling import tool\n",
    "\n",
    "tools = [retrieve_game, evaluate_retrieval, game_web_search]\n",
    "agent = Agent(\n",
    "    model_name=\"gpt-4\", \n",
    "    instructions=\"You are an expert video game research assistant. Answer with relevant game facts.\",\n",
    "    tools=tools\n",
    ")\n",
    "\n",
    "run = agent.invoke(\"When was Pokémon Gold and Silver released?\")\n",
    "\n",
    "run = agent.invoke(\"When was Pokémon Gold and Silver released?\")\n",
    "\n",
    "final = run.get_final_state()\n",
    "print(final[\"messages\"][-1].content)"
   ]
  },
  {
   "cell_type": "code",
   "execution_count": 147,
   "id": "0ec23893",
   "metadata": {},
   "outputs": [
    {
     "name": "stdout",
     "output_type": "stream",
     "text": [
      "\n",
      "Question: When was Pokémon Gold and Silver released?\n",
      "[StateMachine] Starting: __entry__\n",
      "[StateMachine] Executing step: message_prep\n",
      "[StateMachine] Executing step: llm_processor\n",
      "[StateMachine] Executing step: tool_executor\n",
      "[StateMachine] Executing step: llm_processor\n",
      "[StateMachine] Terminating: __termination__\n",
      "Answer: Pokémon Gold and Silver were released in 1999 for the Game Boy Color.\n",
      "\n",
      "Question: Which one was the first 3D platformer Mario game?\n",
      "[StateMachine] Starting: __entry__\n",
      "[StateMachine] Executing step: message_prep\n",
      "[StateMachine] Executing step: llm_processor\n",
      "[StateMachine] Executing step: tool_executor\n",
      "[StateMachine] Executing step: llm_processor\n",
      "[StateMachine] Terminating: __termination__\n",
      "Answer: The first 3D platformer Mario game was Super Mario 64, released on the Nintendo 64 in 1996.\n",
      "\n",
      "Question: Was Mortal Kombat X released for Playstation 5?\n",
      "[StateMachine] Starting: __entry__\n",
      "[StateMachine] Executing step: message_prep\n",
      "[StateMachine] Executing step: llm_processor\n",
      "[StateMachine] Executing step: tool_executor\n",
      "[StateMachine] Executing step: llm_processor\n",
      "[StateMachine] Executing step: tool_executor\n",
      "[StateMachine] Executing step: llm_processor\n",
      "Result 1:\n",
      "Title: Mortal Kombat X (PS5) 4K 60FPS HDR Gameplay - YouTube\n",
      "URL: https://www.youtube.com/watch?v=HUNMZwDdrvY\n",
      "Snippet: Mortal Kombat X[b] is a 2015 fighting game developed by NetherRealm Studios and published by Warner Bros. Interactive Entertainment for Windows, PlayStation 4, and Xbox One. It is the tenth main installment in the Mortal Kombat series and a sequel to Mortal Kombat (2011), taking place 25 years later...\n",
      "\n",
      "Result 2:\n",
      "Title: PlayStation 5 | Mortal Kombat X | Backwards compatible test\n",
      "URL: https://www.youtube.com/watch?v=9Dto2mjnliA\n",
      "Snippet: hey guys and girls and thank you for watching another episode of the PlayStation tester my name is Maurice today we're getting a look at Mortal Kombat X on the PlayStation 5 so this is still a PlayStation 4 game that runs backwards compatible on your PlayStation 5 so without further Ado let's just d...\n",
      "\n",
      "Result 3:\n",
      "Title: Mortal Kombat X - PlayStation® Store\n",
      "URL: https://store.playstation.com/en-us/product/UP1018-CUSA00967_00-MORTALKOMBATX000\n",
      "Snippet: To play this game on PS5, your system may need to be updated to the latest system software. Although this game is playable on PS5, some features available on PS4 may be absent. See PlayStation.com/bc for more details.\n",
      "\n",
      "Online features require an account and are subject to terms of service and applic...\n",
      "\n",
      "Result 4:\n",
      "Title: Mortal Kombat X - PlayStation\n",
      "URL: https://www.playstation.com/en-us/games/mortal-kombat-x_msm_moved/\n",
      "Snippet: To play this game on PS5, your system may need to be updated to the latest system software. Although this game is playable on PS5, some features available on PS4 may be absent. See PlayStation.com/bc for more details.\n",
      "\n",
      "Online features require an account and are subject to terms of service and applic...\n",
      "\n",
      "Result 5:\n",
      "Title: Mortal Kombat X - Wikipedia\n",
      "URL: https://en.wikipedia.org/wiki/Mortal_Kombat_X\n",
      "Snippet: An upgraded version of _Mortal Kombat X_, titled _Mortal Kombat XL_,[\\[c\\]]( was released on March 1, 2016, for PlayStation 4 and Xbox One, including all downloadable content characters from the two released Kombat Packs, almost all bonus alternate costumes available at the time of release, improved...\n",
      "\n",
      "[StateMachine] Executing step: tool_executor\n",
      "[StateMachine] Executing step: llm_processor\n",
      "[StateMachine] Terminating: __termination__\n",
      "Answer: Mortal Kombat X was not originally released for Playstation 5. However, it can be played on the Playstation 5 due to the console's backwards compatibility feature. The game is a Playstation 4 title that can be run on a Playstation 5 system.\n"
     ]
    }
   ],
   "source": [
    "# TODO: Invoke your agent\n",
    "# - When Pokémon Gold and Silver was released?\n",
    "# - Which one was the first 3D platformer Mario game?\n",
    "# - Was Mortal Kombat X realeased for Playstation 5?\n",
    "questions = [\n",
    "    \"When was Pokémon Gold and Silver released?\",\n",
    "    \"Which one was the first 3D platformer Mario game?\",\n",
    "    \"Was Mortal Kombat X released for Playstation 5?\",\n",
    "]\n",
    "\n",
    "for question in questions:\n",
    "    print(f\"\\nQuestion: {question}\")\n",
    "    run = agent.invoke(question)\n",
    "    final = run.get_final_state()\n",
    "    print(f\"Answer: {final['messages'][-1].content}\")"
   ]
  },
  {
   "cell_type": "markdown",
   "id": "f0a55081",
   "metadata": {},
   "source": [
    "### (Optional) Advanced"
   ]
  },
  {
   "cell_type": "code",
   "execution_count": 148,
   "id": "eb83fbb1",
   "metadata": {},
   "outputs": [],
   "source": [
    "# TODO: Update your agent with long-term memory\n",
    "# TODO: Convert the agent to be a state machine, with the tools being pre-defined nodes"
   ]
  }
 ],
 "metadata": {
  "kernelspec": {
   "display_name": "UdaPlay Env",
   "language": "python",
   "name": "udaplay-env"
  },
  "language_info": {
   "codemirror_mode": {
    "name": "ipython",
    "version": 3
   },
   "file_extension": ".py",
   "mimetype": "text/x-python",
   "name": "python",
   "nbconvert_exporter": "python",
   "pygments_lexer": "ipython3",
   "version": "3.12.10"
  }
 },
 "nbformat": 4,
 "nbformat_minor": 5
}
